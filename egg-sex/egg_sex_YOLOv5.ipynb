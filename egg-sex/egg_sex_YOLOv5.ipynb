{
  "nbformat": 4,
  "nbformat_minor": 0,
  "metadata": {
    "colab": {
      "provenance": [],
      "machine_shape": "hm",
      "gpuType": "T4"
    },
    "kernelspec": {
      "name": "python3",
      "display_name": "Python 3"
    },
    "language_info": {
      "name": "python"
    },
    "accelerator": "GPU"
  },
  "cells": [
    {
      "cell_type": "markdown",
      "source": [
        "# Yolov5 Model Egg Sex Prediction\n",
        "The custom dataset must be formatted correctly in order for YoloV5 to work with the ultralytics module. See reference notebook: https://github.com/roboflow/notebooks/blob/main/notebooks/train-yolov5-classification-on-custom-data.ipynb."
      ],
      "metadata": {
        "id": "syKf2Xe-ZFcD"
      }
    },
    {
      "cell_type": "markdown",
      "source": [
        "## Loading Data"
      ],
      "metadata": {
        "id": "5Glhy6rNWvAq"
      }
    },
    {
      "cell_type": "code",
      "source": [
        "from google.colab import drive\n",
        "drive.mount('/content/drive')"
      ],
      "metadata": {
        "colab": {
          "base_uri": "https://localhost:8080/"
        },
        "id": "ewZrRUVmDkOL",
        "outputId": "16f2c85c-4b1e-4ab9-b2b7-507479b68aa4"
      },
      "execution_count": null,
      "outputs": [
        {
          "output_type": "stream",
          "name": "stdout",
          "text": [
            "Mounted at /content/drive\n"
          ]
        }
      ]
    },
    {
      "cell_type": "code",
      "source": [
        "!ls '/content/drive/MyDrive/CS 163/egg_sex"
      ],
      "metadata": {
        "colab": {
          "base_uri": "https://localhost:8080/"
        },
        "id": "KuUYNrb168HJ",
        "outputId": "cb8807fb-d4d4-4d79-e428-d85ac78734b7"
      },
      "execution_count": null,
      "outputs": [
        {
          "output_type": "stream",
          "name": "stdout",
          "text": [
            "full_256  HH19_256\t    HH19_512  HH25_256_png.zip\tlarger_test_set\n",
            "full_512  HH19_256_png.zip  HH25_256  HH25_512\n"
          ]
        }
      ]
    },
    {
      "cell_type": "code",
      "source": [
        "!unzip '/content/drive/MyDrive/CS 163/egg_sex/HH19_256_png.zip' -d ./datasets # Path to HH19 dataset\n",
        "!unzip '/content/drive/MyDrive/CS 163/egg_sex/HH25_256_png.zip' -d ./datasets # Path to HH25 dataset"
      ],
      "metadata": {
        "id": "luLve8Yo6J_x",
        "collapsed": true
      },
      "execution_count": null,
      "outputs": []
    },
    {
      "cell_type": "code",
      "source": [
        "import os\n",
        "HOME = os.getcwd()\n",
        "print(HOME)"
      ],
      "metadata": {
        "colab": {
          "base_uri": "https://localhost:8080/"
        },
        "id": "sCKEtZ-LKFj4",
        "outputId": "86f80ef7-44d7-4942-e6c3-7d61d699c199"
      },
      "execution_count": null,
      "outputs": [
        {
          "output_type": "stream",
          "name": "stdout",
          "text": [
            "/content\n"
          ]
        }
      ]
    },
    {
      "cell_type": "markdown",
      "source": [
        "## Download Ultralytics codebase"
      ],
      "metadata": {
        "id": "DeKnh2qbWz5k"
      }
    },
    {
      "cell_type": "code",
      "source": [
        "!git clone https://github.com/ultralytics/yolov5  # clone\n",
        "%cd yolov5\n",
        "%pip install -qr requirements.txt  # install\n",
        "\n",
        "import torch\n",
        "import utils\n",
        "display = utils.notebook_init()  # checks"
      ],
      "metadata": {
        "colab": {
          "base_uri": "https://localhost:8080/"
        },
        "id": "opX3tliWPYlp",
        "outputId": "517c7d1e-8f73-4a62-8f98-3c1661255d4c"
      },
      "execution_count": null,
      "outputs": [
        {
          "output_type": "stream",
          "name": "stderr",
          "text": [
            "YOLOv5 🚀 v7.0-383-g1435a8ee Python-3.10.12 torch-2.5.1+cu121 CUDA:0 (Tesla T4, 15102MiB)\n"
          ]
        },
        {
          "output_type": "stream",
          "name": "stdout",
          "text": [
            "Setup complete ✅ (8 CPUs, 51.0 GB RAM, 32.7/235.7 GB disk)\n"
          ]
        }
      ]
    },
    {
      "cell_type": "code",
      "source": [
        "from utils.downloads import attempt_download\n",
        "\n",
        "p5 = ['n', 's', 'm', 'l', 'x']  # P5 models\n",
        "cls = [f'{x}-cls' for x in p5]  # classification models\n",
        "\n",
        "for x in cls:\n",
        "    attempt_download(f'weights/yolov5{x}.pt')"
      ],
      "metadata": {
        "colab": {
          "base_uri": "https://localhost:8080/"
        },
        "id": "YDmRo1a4PbTw",
        "outputId": "316dc169-68c9-4dc7-8ba3-5a5be60b75a5"
      },
      "execution_count": null,
      "outputs": [
        {
          "output_type": "stream",
          "name": "stderr",
          "text": [
            "Downloading https://github.com/ultralytics/yolov5/releases/download/v7.0/yolov5n-cls.pt to weights/yolov5n-cls.pt...\n",
            "100%|██████████| 4.87M/4.87M [00:00<00:00, 61.9MB/s]\n",
            "\n",
            "Downloading https://github.com/ultralytics/yolov5/releases/download/v7.0/yolov5s-cls.pt to weights/yolov5s-cls.pt...\n",
            "100%|██████████| 10.5M/10.5M [00:00<00:00, 103MB/s]\n",
            "\n",
            "Downloading https://github.com/ultralytics/yolov5/releases/download/v7.0/yolov5m-cls.pt to weights/yolov5m-cls.pt...\n",
            "100%|██████████| 24.9M/24.9M [00:00<00:00, 85.6MB/s]\n",
            "\n",
            "Downloading https://github.com/ultralytics/yolov5/releases/download/v7.0/yolov5l-cls.pt to weights/yolov5l-cls.pt...\n",
            "100%|██████████| 50.9M/50.9M [00:00<00:00, 76.5MB/s]\n",
            "\n",
            "Downloading https://github.com/ultralytics/yolov5/releases/download/v7.0/yolov5x-cls.pt to weights/yolov5x-cls.pt...\n",
            "100%|██████████| 92.0M/92.0M [00:00<00:00, 144MB/s]\n",
            "\n"
          ]
        }
      ]
    },
    {
      "cell_type": "code",
      "source": [
        "%cd /content/yolov5"
      ],
      "metadata": {
        "colab": {
          "base_uri": "https://localhost:8080/"
        },
        "id": "NumN2VK4P2dm",
        "outputId": "5c3024e5-fd2b-4b3d-e3d6-b279d19f103a"
      },
      "execution_count": null,
      "outputs": [
        {
          "output_type": "stream",
          "name": "stdout",
          "text": [
            "/content/yolov5\n"
          ]
        }
      ]
    },
    {
      "cell_type": "markdown",
      "source": [
        "## Model Training and Results"
      ],
      "metadata": {
        "id": "Iyvkb3tDW-OW"
      }
    },
    {
      "cell_type": "code",
      "source": [
        "# TRAINING\n",
        "!python classify/train.py --model yolov5s-cls.pt --data HH19_256_png --lr0 0.0001 --epochs 200 --img 256"
      ],
      "metadata": {
        "colab": {
          "base_uri": "https://localhost:8080/"
        },
        "id": "O44c0yG9QCGh",
        "outputId": "ef6ff2dc-ec6c-4486-9fae-12dd50494306"
      },
      "execution_count": null,
      "outputs": [
        {
          "output_type": "stream",
          "name": "stdout",
          "text": [
            "2024-11-18 09:01:32.170574: E external/local_xla/xla/stream_executor/cuda/cuda_fft.cc:485] Unable to register cuFFT factory: Attempting to register factory for plugin cuFFT when one has already been registered\n",
            "2024-11-18 09:01:32.190588: E external/local_xla/xla/stream_executor/cuda/cuda_dnn.cc:8454] Unable to register cuDNN factory: Attempting to register factory for plugin cuDNN when one has already been registered\n",
            "2024-11-18 09:01:32.196558: E external/local_xla/xla/stream_executor/cuda/cuda_blas.cc:1452] Unable to register cuBLAS factory: Attempting to register factory for plugin cuBLAS when one has already been registered\n",
            "\u001b[34m\u001b[1mclassify/train: \u001b[0mmodel=yolov5s-cls.pt, data=HH19_256_png, epochs=200, batch_size=64, imgsz=256, nosave=False, cache=None, device=, workers=8, project=runs/train-cls, name=exp, exist_ok=False, pretrained=True, optimizer=Adam, lr0=0.0001, decay=5e-05, label_smoothing=0.1, cutoff=None, dropout=None, verbose=False, seed=0, local_rank=-1\n",
            "\u001b[34m\u001b[1mgithub: \u001b[0mup to date with https://github.com/ultralytics/yolov5 ✅\n",
            "YOLOv5 🚀 v7.0-383-g1435a8ee Python-3.10.12 torch-2.5.1+cu121 CUDA:0 (Tesla T4, 15102MiB)\n",
            "\n",
            "\u001b[34m\u001b[1mTensorBoard: \u001b[0mStart with 'tensorboard --logdir runs/train-cls', view at http://localhost:6006/\n",
            "\u001b[34m\u001b[1malbumentations: \u001b[0mRandomResizedCrop(p=1.0, size=(256, 256), scale=(0.08, 1.0), ratio=(0.75, 1.3333333333333333), interpolation=1, mask_interpolation=0), HorizontalFlip(p=0.5), ColorJitter(p=0.5, brightness=(0.6, 1.4), contrast=(0.6, 1.4), saturation=(0.6, 1.4), hue=(0.0, 0.0)), Normalize(p=1.0, mean=(0.485, 0.456, 0.406), std=(0.229, 0.224, 0.225), max_pixel_value=255.0, normalization='standard'), ToTensorV2(p=1.0, transpose_mask=False)\n",
            "Model summary: 149 layers, 4175042 parameters, 4175042 gradients, 10.5 GFLOPs\n",
            "\u001b[34m\u001b[1moptimizer:\u001b[0m Adam(lr=0.0001) with parameter groups 32 weight(decay=0.0), 33 weight(decay=5e-05), 33 bias\n",
            "/content/yolov5/classify/train.py:201: FutureWarning: `torch.cuda.amp.GradScaler(args...)` is deprecated. Please use `torch.amp.GradScaler('cuda', args...)` instead.\n",
            "  scaler = amp.GradScaler(enabled=cuda)\n",
            "Image sizes 256 train, 256 test\n",
            "Using 7 dataloader workers\n",
            "Logging results to \u001b[1mruns/train-cls/exp9\u001b[0m\n",
            "Starting yolov5s-cls.pt training on HH19_256_png dataset with 2 classes for 200 epochs...\n",
            "\n",
            "     Epoch   GPU_mem  train_loss    val_loss    top1_acc    top5_acc\n",
            "  0% 0/19 [00:00<?, ?it/s]/content/yolov5/classify/train.py:222: FutureWarning: `torch.cuda.amp.autocast(args...)` is deprecated. Please use `torch.amp.autocast('cuda', args...)` instead.\n",
            "  with amp.autocast(enabled=cuda):  # stability issues when enabled\n",
            "     1/200     1.79G       0.707                          validating:   0% 0/2 [00:00<?, ?it/s]/content/yolov5/classify/val.py:111: FutureWarning: `torch.cuda.amp.autocast(args...)` is deprecated. Please use `torch.amp.autocast('cuda', args...)` instead.\n",
            "  with torch.cuda.amp.autocast(enabled=device.type != \"cpu\"):\n",
            "     1/200     1.79G       0.707        0.69       0.543           1: 100% 19/19 [00:02<00:00,  6.44it/s]\n",
            "     2/200     2.12G         0.7       0.686       0.548           1: 100% 19/19 [00:01<00:00, 11.06it/s]\n",
            "     3/200     2.12G       0.691       0.684       0.579           1: 100% 19/19 [00:01<00:00, 11.04it/s]\n",
            "     4/200     2.12G       0.682       0.682       0.584           1: 100% 19/19 [00:01<00:00, 11.06it/s]\n",
            "     5/200     2.12G       0.686       0.682       0.523           1: 100% 19/19 [00:01<00:00, 10.96it/s]\n",
            "     6/200     2.12G        0.69       0.684       0.569           1: 100% 19/19 [00:01<00:00, 10.93it/s]\n",
            "     7/200     2.12G       0.682       0.683       0.574           1: 100% 19/19 [00:01<00:00, 10.54it/s]\n",
            "     8/200     2.12G       0.677       0.713       0.492           1: 100% 19/19 [00:01<00:00, 10.48it/s]\n",
            "     9/200     2.12G       0.672       0.704       0.518           1: 100% 19/19 [00:02<00:00,  8.62it/s]\n",
            "    10/200     2.12G       0.682        0.68       0.619           1: 100% 19/19 [00:01<00:00, 10.82it/s]\n",
            "    11/200     2.12G       0.663       0.668       0.609           1: 100% 19/19 [00:01<00:00, 10.85it/s]\n",
            "    12/200     2.12G       0.672       0.696       0.569           1: 100% 19/19 [00:01<00:00, 10.92it/s]\n",
            "    13/200     2.12G       0.662       0.696       0.579           1: 100% 19/19 [00:01<00:00, 10.81it/s]\n",
            "    14/200     2.12G       0.656       0.701       0.569           1: 100% 19/19 [00:01<00:00, 10.81it/s]\n",
            "    15/200     2.12G       0.644       0.688       0.558           1: 100% 19/19 [00:01<00:00, 10.72it/s]\n",
            "    16/200     2.12G       0.651       0.705       0.584           1: 100% 19/19 [00:01<00:00, 10.44it/s]\n",
            "    17/200     2.12G       0.651       0.692       0.574           1: 100% 19/19 [00:01<00:00, 10.45it/s]\n",
            "    18/200     2.12G       0.635       0.711       0.538           1: 100% 19/19 [00:01<00:00, 10.63it/s]\n",
            "    19/200     2.12G       0.619       0.701       0.563           1: 100% 19/19 [00:01<00:00, 10.76it/s]\n",
            "    20/200     2.12G       0.615       0.736       0.543           1: 100% 19/19 [00:01<00:00, 10.74it/s]\n",
            "    21/200     2.12G       0.612       0.768       0.563           1: 100% 19/19 [00:01<00:00, 10.84it/s]\n",
            "    22/200     2.12G       0.597       0.777       0.569           1: 100% 19/19 [00:01<00:00, 10.85it/s]\n",
            "    23/200     2.12G       0.611       0.828       0.523           1: 100% 19/19 [00:01<00:00, 10.73it/s]\n",
            "    24/200     2.12G       0.608       0.839       0.548           1: 100% 19/19 [00:01<00:00, 10.70it/s]\n",
            "    25/200     2.12G       0.594       0.762       0.518           1: 100% 19/19 [00:01<00:00, 10.47it/s]\n",
            "    26/200     2.12G       0.594       0.762       0.574           1: 100% 19/19 [00:01<00:00, 10.49it/s]\n",
            "    27/200     2.12G       0.582       0.822       0.518           1: 100% 19/19 [00:01<00:00, 10.57it/s]\n",
            "    28/200     2.12G        0.56       0.818       0.538           1: 100% 19/19 [00:01<00:00, 10.76it/s]\n",
            "    29/200     2.12G       0.566       0.781       0.569           1: 100% 19/19 [00:01<00:00, 10.77it/s]\n",
            "    30/200     2.12G        0.56       0.878       0.548           1: 100% 19/19 [00:01<00:00, 10.77it/s]\n",
            "    31/200     2.12G       0.554       0.842       0.548           1: 100% 19/19 [00:01<00:00, 10.79it/s]\n",
            "    32/200     2.12G       0.538       0.849       0.543           1: 100% 19/19 [00:01<00:00, 10.71it/s]\n",
            "    33/200     2.12G       0.534       0.964       0.538           1: 100% 19/19 [00:01<00:00, 10.59it/s]\n",
            "    34/200     2.12G       0.564       0.889       0.508           1: 100% 19/19 [00:01<00:00, 10.29it/s]\n",
            "    35/200     2.12G        0.53       0.933       0.518           1: 100% 19/19 [00:01<00:00, 10.29it/s]\n",
            "    36/200     2.12G       0.533       0.967       0.508           1: 100% 19/19 [00:01<00:00, 10.78it/s]\n",
            "    37/200     2.12G       0.545       0.877       0.523           1: 100% 19/19 [00:01<00:00, 10.77it/s]\n",
            "    38/200     2.12G       0.525       0.963       0.503           1: 100% 19/19 [00:01<00:00, 10.78it/s]\n",
            "    39/200     2.12G       0.523       0.942       0.558           1: 100% 19/19 [00:01<00:00, 10.65it/s]\n",
            "    40/200     2.12G       0.499       0.955       0.569           1: 100% 19/19 [00:01<00:00, 10.69it/s]\n",
            "    41/200     2.12G       0.503        1.05       0.528           1: 100% 19/19 [00:01<00:00, 10.56it/s]\n",
            "    42/200     2.12G       0.496        1.18       0.518           1: 100% 19/19 [00:01<00:00, 10.38it/s]\n",
            "    43/200     2.12G       0.488        1.01       0.492           1: 100% 19/19 [00:01<00:00, 10.30it/s]\n",
            "    44/200     2.12G       0.494       0.973       0.528           1: 100% 19/19 [00:01<00:00, 10.43it/s]\n",
            "    45/200     2.12G       0.507        1.15       0.508           1: 100% 19/19 [00:01<00:00, 10.70it/s]\n",
            "    46/200     2.12G       0.492       0.945       0.508           1: 100% 19/19 [00:01<00:00, 10.57it/s]\n",
            "    47/200     2.12G       0.476       0.982       0.508           1: 100% 19/19 [00:01<00:00, 10.66it/s]\n",
            "    48/200     2.12G        0.46        1.04       0.518           1: 100% 19/19 [00:01<00:00, 10.67it/s]\n",
            "    49/200     2.12G       0.469        1.11       0.533           1: 100% 19/19 [00:01<00:00, 10.70it/s]\n",
            "    50/200     2.12G       0.461        1.06       0.508           1: 100% 19/19 [00:01<00:00, 10.44it/s]\n",
            "    51/200     2.12G       0.465        1.05       0.523           1: 100% 19/19 [00:01<00:00, 10.35it/s]\n",
            "    52/200     2.12G       0.445        1.01       0.518           1: 100% 19/19 [00:01<00:00, 10.30it/s]\n",
            "    53/200     2.12G       0.449       0.969       0.543           1: 100% 19/19 [00:01<00:00, 10.54it/s]\n",
            "    54/200     2.12G       0.449       0.955       0.528           1: 100% 19/19 [00:01<00:00, 10.71it/s]\n",
            "    55/200     2.12G       0.452       0.998       0.543           1: 100% 19/19 [00:01<00:00, 10.65it/s]\n",
            "    56/200     2.12G       0.445       0.979       0.508           1: 100% 19/19 [00:01<00:00, 10.77it/s]\n",
            "    57/200     2.12G       0.437        1.03       0.503           1: 100% 19/19 [00:01<00:00, 10.70it/s]\n",
            "    58/200     2.12G        0.44           1       0.518           1: 100% 19/19 [00:01<00:00, 10.63it/s]\n",
            "    59/200     2.12G       0.419        1.06       0.543           1: 100% 19/19 [00:01<00:00, 10.46it/s]\n",
            "    60/200     2.12G       0.449        1.06       0.513           1: 100% 19/19 [00:01<00:00, 10.43it/s]\n",
            "    61/200     2.12G       0.419        1.03       0.548           1: 100% 19/19 [00:01<00:00, 10.36it/s]\n",
            "    62/200     2.12G       0.438        1.03       0.538           1: 100% 19/19 [00:01<00:00, 10.69it/s]\n",
            "    63/200     2.12G       0.403        1.03       0.518           1: 100% 19/19 [00:02<00:00,  9.22it/s]\n",
            "    64/200     2.12G        0.39        1.05       0.543           1: 100% 19/19 [00:01<00:00, 10.69it/s]\n",
            "    65/200     2.12G       0.398                                    :  42% 8/19 [00:00<00:01,  9.86it/s]\n",
            "Traceback (most recent call last):\n",
            "  File \"/content/yolov5/classify/train.py\", line 382, in <module>\n",
            "    main(opt)\n",
            "  File \"/content/yolov5/classify/train.py\", line 364, in main\n",
            "    train(opt, device)\n",
            "  File \"/content/yolov5/classify/train.py\", line 231, in train\n",
            "    scaler.step(optimizer)\n",
            "  File \"/usr/local/lib/python3.10/dist-packages/torch/amp/grad_scaler.py\", line 457, in step\n",
            "    retval = self._maybe_opt_step(optimizer, optimizer_state, *args, **kwargs)\n",
            "  File \"/usr/local/lib/python3.10/dist-packages/torch/amp/grad_scaler.py\", line 351, in _maybe_opt_step\n",
            "    if not sum(v.item() for v in optimizer_state[\"found_inf_per_device\"].values()):\n",
            "  File \"/usr/local/lib/python3.10/dist-packages/torch/amp/grad_scaler.py\", line 351, in <genexpr>\n",
            "    if not sum(v.item() for v in optimizer_state[\"found_inf_per_device\"].values()):\n",
            "KeyboardInterrupt\n"
          ]
        }
      ]
    },
    {
      "cell_type": "code",
      "source": [
        "# VALIDATION SET\n",
        "!python classify/val.py --weights runs/train-cls/exp8/weights/best.pt --data /content/datasets/HH25_256_png/"
      ],
      "metadata": {
        "colab": {
          "base_uri": "https://localhost:8080/"
        },
        "id": "3xARVYddQEds",
        "outputId": "3d583365-2a73-426f-d931-b897ef37eaf3"
      },
      "execution_count": null,
      "outputs": [
        {
          "output_type": "stream",
          "name": "stdout",
          "text": [
            "\u001b[34m\u001b[1mclassify/val: \u001b[0mdata=/content/datasets/HH25_256_png/, weights=['runs/train-cls/exp8/weights/best.pt'], batch_size=128, imgsz=224, device=, workers=8, verbose=True, project=runs/val-cls, name=exp, exist_ok=False, half=False, dnn=False\n",
            "YOLOv5 🚀 v7.0-383-g1435a8ee Python-3.10.12 torch-2.5.1+cu121 CUDA:0 (Tesla T4, 15102MiB)\n",
            "\n",
            "Fusing layers... \n",
            "Model summary: 117 layers, 4169250 parameters, 0 gradients, 10.4 GFLOPs\n",
            "validating:   0% 0/2 [00:00<?, ?it/s]/content/yolov5/classify/val.py:111: FutureWarning: `torch.cuda.amp.autocast(args...)` is deprecated. Please use `torch.amp.autocast('cuda', args...)` instead.\n",
            "  with torch.cuda.amp.autocast(enabled=device.type != \"cpu\"):\n",
            "validating: 100% 2/2 [00:01<00:00,  1.55it/s]\n",
            "                   Class      Images    top1_acc    top5_acc\n",
            "                     all         162       0.525           1\n",
            "                  female          74       0.419           1\n",
            "                    male          88       0.614           1\n",
            "Speed: 0.1ms pre-process, 3.8ms inference, 0.2ms post-process per image at shape (1, 3, 224, 224)\n",
            "Results saved to \u001b[1mruns/val-cls/exp21\u001b[0m\n"
          ]
        }
      ]
    },
    {
      "cell_type": "code",
      "source": [
        "# TEST SET\n",
        "!python classify/predict.py --weights runs/train-cls/exp5/weights/best.pt --source /content/datasets/HH25_256_png/test/female/testing_image_103.png"
      ],
      "metadata": {
        "colab": {
          "base_uri": "https://localhost:8080/"
        },
        "id": "OpAFezriSmd9",
        "outputId": "13bbf7fc-c991-42c6-9f70-02480b69fd82"
      },
      "execution_count": null,
      "outputs": [
        {
          "output_type": "stream",
          "name": "stdout",
          "text": [
            "\u001b[34m\u001b[1mclassify/predict: \u001b[0mweights=['runs/train-cls/exp/weights/best.pt'], source=/content/datasets/HH19_256_dataset/test/female/testing_image_103.png, data=data/coco128.yaml, imgsz=[224, 224], device=, view_img=False, save_txt=False, nosave=False, augment=False, visualize=False, update=False, project=runs/predict-cls, name=exp, exist_ok=False, half=False, dnn=False, vid_stride=1\n",
            "YOLOv5 🚀 v7.0-383-g1435a8ee Python-3.10.12 torch-2.5.1+cu121 CUDA:0 (Tesla T4, 15102MiB)\n",
            "\n",
            "Fusing layers... \n",
            "Model summary: 117 layers, 4169250 parameters, 0 gradients, 10.4 GFLOPs\n",
            "image 1/1 /content/datasets/HH19_256_dataset/test/female/testing_image_103.png: 224x224 female 0.61, male 0.39, 2.9ms\n",
            "Speed: 0.3ms pre-process, 2.9ms inference, 29.8ms NMS per image at shape (1, 3, 224, 224)\n",
            "Results saved to \u001b[1mruns/predict-cls/exp8\u001b[0m\n"
          ]
        }
      ]
    }
  ]
}